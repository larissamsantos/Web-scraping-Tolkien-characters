{
 "cells": [
  {
   "cell_type": "markdown",
   "id": "8d29bc79",
   "metadata": {},
   "source": [
    "# First scraping"
   ]
  },
  {
   "cell_type": "markdown",
   "id": "fa2614f0",
   "metadata": {},
   "source": [
    "Importing libraries:"
   ]
  },
  {
   "cell_type": "code",
   "execution_count": 1,
   "id": "c3622dc5",
   "metadata": {},
   "outputs": [],
   "source": [
    "import bs4\n",
    "import urllib.request as urllib_request\n",
    "import pandas as pd"
   ]
  },
  {
   "cell_type": "markdown",
   "id": "034f19f5",
   "metadata": {},
   "source": [
    "Reading the Characters Category page and creating the BeautifulSoup object:"
   ]
  },
  {
   "cell_type": "code",
   "execution_count": 2,
   "id": "ba419596",
   "metadata": {},
   "outputs": [],
   "source": [
    "from urllib.request import urlopen\n",
    "from bs4 import BeautifulSoup\n",
    "\n",
    "characters_category_url = 'https://lotr.fandom.com/wiki/Category:Characters'\n",
    "\n",
    "response = urlopen(characters_category_url)\n",
    "characters_category_html = response.read()\n",
    "\n",
    "soup = BeautifulSoup(characters_category_html, 'html.parser')"
   ]
  },
  {
   "cell_type": "markdown",
   "id": "81513ad4",
   "metadata": {},
   "source": [
    "Creating a list with the links to the categories pages inside the main page:"
   ]
  },
  {
   "cell_type": "code",
   "execution_count": 3,
   "id": "500022c7",
   "metadata": {},
   "outputs": [],
   "source": [
    "links_list = []\n",
    "for item in soup.findAll('a', class_=\"category-page__member-link\"): \n",
    "    href = item.get('href')\n",
    "    if 'Category' in href:\n",
    "        links_list.append('https://lotr.fandom.com'+item.get('href'))"
   ]
  },
  {
   "cell_type": "markdown",
   "id": "0307e6fc",
   "metadata": {},
   "source": [
    "Creating a list with dictionaries that get the name and the link of the categories:"
   ]
  },
  {
   "cell_type": "code",
   "execution_count": 43,
   "id": "aacd4b12",
   "metadata": {},
   "outputs": [],
   "source": [
    "categories = []\n",
    "\n",
    "for link in links_list:\n",
    "    category_index = link.find('Category:')\n",
    "    category_name = link[category_index+9:]\n",
    "    categories.append({'category name': category_name, 'category url': link})"
   ]
  },
  {
   "cell_type": "markdown",
   "id": "d371dfb8",
   "metadata": {},
   "source": [
    "Creating a blank list to save the characters and their categories later:"
   ]
  },
  {
   "cell_type": "code",
   "execution_count": 44,
   "id": "7853f1eb",
   "metadata": {},
   "outputs": [],
   "source": [
    "character_list = []"
   ]
  },
  {
   "cell_type": "markdown",
   "id": "43c5c23e",
   "metadata": {},
   "source": [
    "Getting the characters and categories. It was noticed that some categories had other categories inside of them (for example, the \"Characters by race\" is composed of 13 subcategories such as Elves and Hobbits). To take account of these categories that don't appear in the Characters by Category page, if the term 'Category' was found while webscrapping each page, instead of adding a new dictionary to the character_list, it was added a new category to the categories list, which will be read later inside the loop."
   ]
  },
  {
   "cell_type": "code",
   "execution_count": 45,
   "id": "2b8b5f69",
   "metadata": {
    "scrolled": true
   },
   "outputs": [],
   "source": [
    "for category in categories:\n",
    "    response = urlopen(category['category url'])\n",
    "    category_html = response.read().decode('ISO-8859-1')\n",
    "    soup = BeautifulSoup(category_html, 'html.parser')\n",
    "    for item in soup.findAll('a', class_='category-page__member-link'): \n",
    "        href = item.get('href')\n",
    "        if 'Category' in href:\n",
    "            category_index = href.find('Category:')\n",
    "            category_name = href[category_index+9:]\n",
    "            category_name_url = {'category name': category_name, 'category url': 'https://lotr.fandom.com'+href}\n",
    "            category_name_url_copy = category_name_url.copy()\n",
    "            if category_name_url_copy not in categories:\n",
    "                categories.append(category_name_url_copy)\n",
    "        else:\n",
    "            wiki_index = href.find('wiki/')\n",
    "            character_name = href[wiki_index+5:]\n",
    "            category_name = category['category name']\n",
    "            category_character = {'category': category_name, 'character name': character_name}\n",
    "            character_list.append(category_character)"
   ]
  },
  {
   "cell_type": "markdown",
   "id": "97d2e2a8",
   "metadata": {},
   "source": [
    "Creating a pandas dataframe to store the data:"
   ]
  },
  {
   "cell_type": "code",
   "execution_count": null,
   "id": "83851b2b",
   "metadata": {},
   "outputs": [],
   "source": [
    "character_df = pd.DataFrame(character_list)"
   ]
  },
  {
   "cell_type": "code",
   "execution_count": 51,
   "id": "e256787d",
   "metadata": {},
   "outputs": [],
   "source": [
    "character_df.to_csv('first_scraping.csv')"
   ]
  },
  {
   "cell_type": "markdown",
   "id": "ec2cb4b9",
   "metadata": {},
   "source": [
    "While checking the data, it was discovered that some images categories had the same html tag as the page links inside each categories page. The following line of code deletes these rows:"
   ]
  },
  {
   "cell_type": "code",
   "execution_count": 63,
   "id": "6dee897a",
   "metadata": {},
   "outputs": [],
   "source": [
    "character_df = character_df[character_df['category'].str.contains('Images_of')==False]"
   ]
  },
  {
   "cell_type": "code",
   "execution_count": 65,
   "id": "231cc054",
   "metadata": {},
   "outputs": [],
   "source": [
    "character_df.to_csv('second_scraping.csv')"
   ]
  }
 ],
 "metadata": {
  "kernelspec": {
   "display_name": "Python 3 (ipykernel)",
   "language": "python",
   "name": "python3"
  },
  "language_info": {
   "codemirror_mode": {
    "name": "ipython",
    "version": 3
   },
   "file_extension": ".py",
   "mimetype": "text/x-python",
   "name": "python",
   "nbconvert_exporter": "python",
   "pygments_lexer": "ipython3",
   "version": "3.9.7"
  }
 },
 "nbformat": 4,
 "nbformat_minor": 5
}
